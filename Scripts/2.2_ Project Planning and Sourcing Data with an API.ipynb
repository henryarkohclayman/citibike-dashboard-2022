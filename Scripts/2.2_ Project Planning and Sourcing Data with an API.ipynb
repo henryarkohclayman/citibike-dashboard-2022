{
 "cells": [
  {
   "cell_type": "code",
   "execution_count": 2,
   "id": "baec0a08-fa43-4d17-a67b-4a308beaedbb",
   "metadata": {},
   "outputs": [],
   "source": [
    "# Import necessary libraries\n",
    "import os\n",
    "import requests\n",
    "import pandas as pd\n",
    "import zipfile \n",
    "from io import BytesIO"
   ]
  },
  {
   "cell_type": "code",
   "execution_count": 3,
   "id": "b2e0d696-cce3-40a6-9f71-df40db103a79",
   "metadata": {},
   "outputs": [],
   "source": [
    "from pathlib import Path\n",
    "# Path to your data folder\n",
    "data_folder = r\"Path(\"Data\")\""
   ]
  },
  {
   "cell_type": "code",
   "execution_count": 4,
   "id": "09255fb7-9904-49ae-a496-1dc1780978e1",
   "metadata": {
    "scrolled": true
   },
   "outputs": [
    {
     "name": "stdout",
     "output_type": "stream",
     "text": [
      "Extracted 2013-citibike-tripdata.zip → C:\\Users\\henry\\OneDrive\\New York’s CitiBike trips in 2022\\unzipped\n",
      "Extracted 2014-citibike-tripdata.zip → C:\\Users\\henry\\OneDrive\\New York’s CitiBike trips in 2022\\unzipped\n",
      "Extracted 2015-citibike-tripdata.zip → C:\\Users\\henry\\OneDrive\\New York’s CitiBike trips in 2022\\unzipped\n",
      "Extracted 2016-citibike-tripdata.zip → C:\\Users\\henry\\OneDrive\\New York’s CitiBike trips in 2022\\unzipped\n",
      "Extracted 2017-citibike-tripdata.zip → C:\\Users\\henry\\OneDrive\\New York’s CitiBike trips in 2022\\unzipped\n",
      "Extracted 2018-citibike-tripdata.zip → C:\\Users\\henry\\OneDrive\\New York’s CitiBike trips in 2022\\unzipped\n",
      "Extracted JC-201510-citibike-tripdata.csv.zip → C:\\Users\\henry\\OneDrive\\New York’s CitiBike trips in 2022\\unzipped\n",
      "Extracted JC-201511-citibike-tripdata.csv.zip → C:\\Users\\henry\\OneDrive\\New York’s CitiBike trips in 2022\\unzipped\n",
      "Extracted JC-201512-citibike-tripdata.csv.zip → C:\\Users\\henry\\OneDrive\\New York’s CitiBike trips in 2022\\unzipped\n",
      "Extracted JC-201601-citibike-tripdata.csv.zip → C:\\Users\\henry\\OneDrive\\New York’s CitiBike trips in 2022\\unzipped\n",
      "Extracted JC-201602-citibike-tripdata.csv.zip → C:\\Users\\henry\\OneDrive\\New York’s CitiBike trips in 2022\\unzipped\n",
      "Extracted JC-201603-citibike-tripdata.csv.zip → C:\\Users\\henry\\OneDrive\\New York’s CitiBike trips in 2022\\unzipped\n",
      "Extracted JC-201604-citibike-tripdata.csv.zip → C:\\Users\\henry\\OneDrive\\New York’s CitiBike trips in 2022\\unzipped\n",
      "Extracted JC-201606-citibike-tripdata.csv.zip → C:\\Users\\henry\\OneDrive\\New York’s CitiBike trips in 2022\\unzipped\n",
      "Extracted JC-201607-citibike-tripdata.csv.zip → C:\\Users\\henry\\OneDrive\\New York’s CitiBike trips in 2022\\unzipped\n",
      "Extracted JC-201608-citibike-tripdata.csv.zip → C:\\Users\\henry\\OneDrive\\New York’s CitiBike trips in 2022\\unzipped\n",
      "Extracted JC-201609-citibike-tripdata.csv.zip → C:\\Users\\henry\\OneDrive\\New York’s CitiBike trips in 2022\\unzipped\n",
      "Extracted JC-201610-citibike-tripdata.csv.zip → C:\\Users\\henry\\OneDrive\\New York’s CitiBike trips in 2022\\unzipped\n",
      "Extracted JC-201611-citibike-tripdata.csv.zip → C:\\Users\\henry\\OneDrive\\New York’s CitiBike trips in 2022\\unzipped\n",
      "Extracted JC-201612-citibike-tripdata.csv.zip → C:\\Users\\henry\\OneDrive\\New York’s CitiBike trips in 2022\\unzipped\n",
      "Extracted JC-201701-citibike-tripdata.csv.zip → C:\\Users\\henry\\OneDrive\\New York’s CitiBike trips in 2022\\unzipped\n",
      "Extracted JC-201702-citibike-tripdata.csv.zip → C:\\Users\\henry\\OneDrive\\New York’s CitiBike trips in 2022\\unzipped\n",
      "Extracted JC-201703-citibike-tripdata.csv.zip → C:\\Users\\henry\\OneDrive\\New York’s CitiBike trips in 2022\\unzipped\n",
      "Extracted JC-201704-citibike-tripdata.csv.zip → C:\\Users\\henry\\OneDrive\\New York’s CitiBike trips in 2022\\unzipped\n",
      "Extracted JC-201705-citibike-tripdata.csv.zip → C:\\Users\\henry\\OneDrive\\New York’s CitiBike trips in 2022\\unzipped\n",
      "Extracted JC-201706-citibike-tripdata.csv.zip → C:\\Users\\henry\\OneDrive\\New York’s CitiBike trips in 2022\\unzipped\n",
      "Extracted JC-201707-citibike-tripdata.csv.zip → C:\\Users\\henry\\OneDrive\\New York’s CitiBike trips in 2022\\unzipped\n",
      "Extracted JC-201708 citibike-tripdata.csv.zip → C:\\Users\\henry\\OneDrive\\New York’s CitiBike trips in 2022\\unzipped\n",
      "Extracted JC-201709-citibike-tripdata.csv.zip → C:\\Users\\henry\\OneDrive\\New York’s CitiBike trips in 2022\\unzipped\n",
      "Extracted JC-201710-citibike-tripdata.csv.zip → C:\\Users\\henry\\OneDrive\\New York’s CitiBike trips in 2022\\unzipped\n",
      "Extracted JC-201711-citibike-tripdata.csv.zip → C:\\Users\\henry\\OneDrive\\New York’s CitiBike trips in 2022\\unzipped\n",
      "Extracted JC-201712-citibike-tripdata.csv.zip → C:\\Users\\henry\\OneDrive\\New York’s CitiBike trips in 2022\\unzipped\n",
      "Extracted JC-201801-citibike-tripdata.csv.zip → C:\\Users\\henry\\OneDrive\\New York’s CitiBike trips in 2022\\unzipped\n",
      "Extracted JC-201802-citibike-tripdata.csv.zip → C:\\Users\\henry\\OneDrive\\New York’s CitiBike trips in 2022\\unzipped\n",
      "Extracted JC-201803-citibike-tripdata.csv.zip → C:\\Users\\henry\\OneDrive\\New York’s CitiBike trips in 2022\\unzipped\n",
      "Extracted JC-201804-citibike-tripdata.csv.zip → C:\\Users\\henry\\OneDrive\\New York’s CitiBike trips in 2022\\unzipped\n",
      "Extracted JC-201805-citibike-tripdata.csv.zip → C:\\Users\\henry\\OneDrive\\New York’s CitiBike trips in 2022\\unzipped\n",
      "Extracted JC-201806-citibike-tripdata.csv.zip → C:\\Users\\henry\\OneDrive\\New York’s CitiBike trips in 2022\\unzipped\n",
      "Extracted JC-201807-citibike-tripdata.csv.zip → C:\\Users\\henry\\OneDrive\\New York’s CitiBike trips in 2022\\unzipped\n",
      "Extracted JC-201808-citibike-tripdata.csv.zip → C:\\Users\\henry\\OneDrive\\New York’s CitiBike trips in 2022\\unzipped\n",
      "Extracted JC-201809-citibike-tripdata.csv.zip → C:\\Users\\henry\\OneDrive\\New York’s CitiBike trips in 2022\\unzipped\n",
      "Extracted JC-201810-citibike-tripdata.csv.zip → C:\\Users\\henry\\OneDrive\\New York’s CitiBike trips in 2022\\unzipped\n",
      "Extracted JC-201811-citibike-tripdata.csv.zip → C:\\Users\\henry\\OneDrive\\New York’s CitiBike trips in 2022\\unzipped\n",
      "Extracted JC-201812-citibike-tripdata.csv.zip → C:\\Users\\henry\\OneDrive\\New York’s CitiBike trips in 2022\\unzipped\n",
      "Extracted JC-201901-citibike-tripdata.csv.zip → C:\\Users\\henry\\OneDrive\\New York’s CitiBike trips in 2022\\unzipped\n",
      "Extracted JC-201902-citibike-tripdata.csv.zip → C:\\Users\\henry\\OneDrive\\New York’s CitiBike trips in 2022\\unzipped\n",
      "Extracted JC-201903-citibike-tripdata.csv.zip → C:\\Users\\henry\\OneDrive\\New York’s CitiBike trips in 2022\\unzipped\n",
      "Extracted JC-201904-citibike-tripdata.csv.zip → C:\\Users\\henry\\OneDrive\\New York’s CitiBike trips in 2022\\unzipped\n",
      "Extracted JC-201905-citibike-tripdata.csv.zip → C:\\Users\\henry\\OneDrive\\New York’s CitiBike trips in 2022\\unzipped\n",
      "Extracted JC-201906-citibike-tripdata.csv.zip → C:\\Users\\henry\\OneDrive\\New York’s CitiBike trips in 2022\\unzipped\n",
      "Extracted JC-201907-citibike-tripdata.csv.zip → C:\\Users\\henry\\OneDrive\\New York’s CitiBike trips in 2022\\unzipped\n",
      "Extracted JC-201908-citibike-tripdata.csv.zip → C:\\Users\\henry\\OneDrive\\New York’s CitiBike trips in 2022\\unzipped\n",
      "Extracted JC-201909-citibike-tripdata.csv.zip → C:\\Users\\henry\\OneDrive\\New York’s CitiBike trips in 2022\\unzipped\n",
      "Extracted JC-201910-citibike-tripdata.csv.zip → C:\\Users\\henry\\OneDrive\\New York’s CitiBike trips in 2022\\unzipped\n",
      "Extracted JC-201911-citibike-tripdata.csv.zip → C:\\Users\\henry\\OneDrive\\New York’s CitiBike trips in 2022\\unzipped\n",
      "Extracted JC-201912-citibike-tripdata.csv.zip → C:\\Users\\henry\\OneDrive\\New York’s CitiBike trips in 2022\\unzipped\n",
      "Extracted JC-202001-citibike-tripdata.csv.zip → C:\\Users\\henry\\OneDrive\\New York’s CitiBike trips in 2022\\unzipped\n",
      "Extracted JC-202002-citibike-tripdata.csv.zip → C:\\Users\\henry\\OneDrive\\New York’s CitiBike trips in 2022\\unzipped\n",
      "Extracted JC-202003-citibike-tripdata.csv.zip → C:\\Users\\henry\\OneDrive\\New York’s CitiBike trips in 2022\\unzipped\n",
      "Extracted JC-202004-citibike-tripdata.csv.zip → C:\\Users\\henry\\OneDrive\\New York’s CitiBike trips in 2022\\unzipped\n",
      "Extracted JC-202005-citibike-tripdata.csv.zip → C:\\Users\\henry\\OneDrive\\New York’s CitiBike trips in 2022\\unzipped\n",
      "Extracted JC-202006-citibike-tripdata.csv.zip → C:\\Users\\henry\\OneDrive\\New York’s CitiBike trips in 2022\\unzipped\n",
      "Extracted JC-202007-citibike-tripdata.csv.zip → C:\\Users\\henry\\OneDrive\\New York’s CitiBike trips in 2022\\unzipped\n",
      "Extracted JC-202008-citibike-tripdata.csv.zip → C:\\Users\\henry\\OneDrive\\New York’s CitiBike trips in 2022\\unzipped\n",
      "Extracted JC-202009-citibike-tripdata.csv.zip → C:\\Users\\henry\\OneDrive\\New York’s CitiBike trips in 2022\\unzipped\n",
      "Extracted JC-202010-citibike-tripdata.csv.zip → C:\\Users\\henry\\OneDrive\\New York’s CitiBike trips in 2022\\unzipped\n",
      "Extracted JC-202011-citibike-tripdata.csv.zip → C:\\Users\\henry\\OneDrive\\New York’s CitiBike trips in 2022\\unzipped\n",
      "Extracted JC-202012-citibike-tripdata.csv.zip → C:\\Users\\henry\\OneDrive\\New York’s CitiBike trips in 2022\\unzipped\n",
      "Extracted JC-202101-citibike-tripdata.csv.zip → C:\\Users\\henry\\OneDrive\\New York’s CitiBike trips in 2022\\unzipped\n",
      "Extracted JC-202102-citibike-tripdata.csv.zip → C:\\Users\\henry\\OneDrive\\New York’s CitiBike trips in 2022\\unzipped\n",
      "Extracted JC-202103-citibike-tripdata.csv.zip → C:\\Users\\henry\\OneDrive\\New York’s CitiBike trips in 2022\\unzipped\n",
      "Extracted JC-202104-citibike-tripdata.csv.zip → C:\\Users\\henry\\OneDrive\\New York’s CitiBike trips in 2022\\unzipped\n",
      "Extracted JC-202105-citibike-tripdata.csv.zip → C:\\Users\\henry\\OneDrive\\New York’s CitiBike trips in 2022\\unzipped\n",
      "Extracted JC-202106-citibike-tripdata.csv.zip → C:\\Users\\henry\\OneDrive\\New York’s CitiBike trips in 2022\\unzipped\n",
      "Extracted JC-202107-citibike-tripdata.csv.zip → C:\\Users\\henry\\OneDrive\\New York’s CitiBike trips in 2022\\unzipped\n",
      "Extracted JC-202108-citibike-tripdata.csv.zip → C:\\Users\\henry\\OneDrive\\New York’s CitiBike trips in 2022\\unzipped\n",
      "Extracted JC-202109-citibike-tripdata.csv.zip → C:\\Users\\henry\\OneDrive\\New York’s CitiBike trips in 2022\\unzipped\n",
      "Extracted JC-202110-citibike-tripdata.csv.zip → C:\\Users\\henry\\OneDrive\\New York’s CitiBike trips in 2022\\unzipped\n",
      "Extracted JC-202111-citibike-tripdata.csv.zip → C:\\Users\\henry\\OneDrive\\New York’s CitiBike trips in 2022\\unzipped\n",
      "Extracted JC-202112-citibike-tripdata.csv.zip → C:\\Users\\henry\\OneDrive\\New York’s CitiBike trips in 2022\\unzipped\n",
      "Extracted JC-202201-citibike-tripdata.csv.zip → C:\\Users\\henry\\OneDrive\\New York’s CitiBike trips in 2022\\unzipped\n",
      "Extracted JC-202202-citibike-tripdata.csv.zip → C:\\Users\\henry\\OneDrive\\New York’s CitiBike trips in 2022\\unzipped\n",
      "Extracted JC-202203-citibike-tripdata.csv.zip → C:\\Users\\henry\\OneDrive\\New York’s CitiBike trips in 2022\\unzipped\n",
      "Extracted JC-202204-citibike-tripdata.csv.zip → C:\\Users\\henry\\OneDrive\\New York’s CitiBike trips in 2022\\unzipped\n",
      "Extracted JC-202206-citibike-tripdata.csv.zip → C:\\Users\\henry\\OneDrive\\New York’s CitiBike trips in 2022\\unzipped\n",
      "Extracted JC-202207-citbike-tripdata.csv.zip → C:\\Users\\henry\\OneDrive\\New York’s CitiBike trips in 2022\\unzipped\n",
      "Extracted JC-202208-citibike-tripdata.csv.zip → C:\\Users\\henry\\OneDrive\\New York’s CitiBike trips in 2022\\unzipped\n",
      "Extracted JC-202209-citibike-tripdata.csv.zip → C:\\Users\\henry\\OneDrive\\New York’s CitiBike trips in 2022\\unzipped\n",
      "Extracted JC-202210-citibike-tripdata.csv.zip → C:\\Users\\henry\\OneDrive\\New York’s CitiBike trips in 2022\\unzipped\n",
      "Extracted JC-202211-citibike-tripdata.csv.zip → C:\\Users\\henry\\OneDrive\\New York’s CitiBike trips in 2022\\unzipped\n",
      "Extracted JC-202212-citibike-tripdata.csv.zip → C:\\Users\\henry\\OneDrive\\New York’s CitiBike trips in 2022\\unzipped\n",
      "Extracted JC-202301-citibike-tripdata.csv.zip → C:\\Users\\henry\\OneDrive\\New York’s CitiBike trips in 2022\\unzipped\n",
      "Extracted JC-202302-citibike-tripdata.csv.zip → C:\\Users\\henry\\OneDrive\\New York’s CitiBike trips in 2022\\unzipped\n",
      "Extracted JC-202303-citibike-tripdata.csv.zip → C:\\Users\\henry\\OneDrive\\New York’s CitiBike trips in 2022\\unzipped\n",
      "Extracted JC-202304-citibike-tripdata.csv.zip → C:\\Users\\henry\\OneDrive\\New York’s CitiBike trips in 2022\\unzipped\n",
      "Extracted JC-202305-citibike-tripdata.csv.zip → C:\\Users\\henry\\OneDrive\\New York’s CitiBike trips in 2022\\unzipped\n",
      "Extracted JC-202306-citibike-tripdata.csv.zip → C:\\Users\\henry\\OneDrive\\New York’s CitiBike trips in 2022\\unzipped\n",
      "Extracted JC-202307-citibike-tripdata.csv.zip → C:\\Users\\henry\\OneDrive\\New York’s CitiBike trips in 2022\\unzipped\n",
      "Extracted JC-202308-citibike-tripdata.csv.zip → C:\\Users\\henry\\OneDrive\\New York’s CitiBike trips in 2022\\unzipped\n",
      "Extracted JC-202309-citibike-tripdata.csv.zip → C:\\Users\\henry\\OneDrive\\New York’s CitiBike trips in 2022\\unzipped\n",
      "Extracted JC-202310-citibike-tripdata.csv.zip → C:\\Users\\henry\\OneDrive\\New York’s CitiBike trips in 2022\\unzipped\n",
      "Extracted JC-202311-citibike-tripdata.csv.zip → C:\\Users\\henry\\OneDrive\\New York’s CitiBike trips in 2022\\unzipped\n",
      "Extracted JC-202312-citibike-tripdata.csv.zip → C:\\Users\\henry\\OneDrive\\New York’s CitiBike trips in 2022\\unzipped\n",
      "Extracted JC-202401-citibike-tripdata.csv.zip → C:\\Users\\henry\\OneDrive\\New York’s CitiBike trips in 2022\\unzipped\n",
      "Extracted JC-202402-citibike-tripdata.csv.zip → C:\\Users\\henry\\OneDrive\\New York’s CitiBike trips in 2022\\unzipped\n",
      "Extracted JC-202403-citibike-tripdata.csv.zip → C:\\Users\\henry\\OneDrive\\New York’s CitiBike trips in 2022\\unzipped\n",
      "Extracted JC-202404-citibike-tripdata.csv.zip → C:\\Users\\henry\\OneDrive\\New York’s CitiBike trips in 2022\\unzipped\n",
      "Extracted JC-202405-citibike-tripdata.csv.zip → C:\\Users\\henry\\OneDrive\\New York’s CitiBike trips in 2022\\unzipped\n",
      "Extracted JC-202406-citibike-tripdata.csv.zip → C:\\Users\\henry\\OneDrive\\New York’s CitiBike trips in 2022\\unzipped\n",
      "Extracted JC-202407-citibike-tripdata.csv.zip → C:\\Users\\henry\\OneDrive\\New York’s CitiBike trips in 2022\\unzipped\n",
      "Extracted JC-202408-citibike-tripdata.csv.zip → C:\\Users\\henry\\OneDrive\\New York’s CitiBike trips in 2022\\unzipped\n",
      "Extracted JC-202409-citibike-tripdata.csv.zip → C:\\Users\\henry\\OneDrive\\New York’s CitiBike trips in 2022\\unzipped\n",
      "Extracted JC-202410-citibike-tripdata.csv.zip → C:\\Users\\henry\\OneDrive\\New York’s CitiBike trips in 2022\\unzipped\n",
      "Extracted JC-202411-citibike-tripdata.csv.zip → C:\\Users\\henry\\OneDrive\\New York’s CitiBike trips in 2022\\unzipped\n",
      "Extracted JC-202412-citibike-tripdata.csv.zip → C:\\Users\\henry\\OneDrive\\New York’s CitiBike trips in 2022\\unzipped\n",
      "Extracted JC-202501-citibike-tripdata.csv.zip → C:\\Users\\henry\\OneDrive\\New York’s CitiBike trips in 2022\\unzipped\n",
      "Extracted JC-202502-citibike-tripdata.csv.zip → C:\\Users\\henry\\OneDrive\\New York’s CitiBike trips in 2022\\unzipped\n",
      "Extracted JC-202503-citibike-tripdata.csv.zip → C:\\Users\\henry\\OneDrive\\New York’s CitiBike trips in 2022\\unzipped\n",
      "Extracted JC-202504-citibike-tripdata.csv.zip → C:\\Users\\henry\\OneDrive\\New York’s CitiBike trips in 2022\\unzipped\n",
      "Extracted JC-202505-citibike-tripdata.csv.zip → C:\\Users\\henry\\OneDrive\\New York’s CitiBike trips in 2022\\unzipped\n",
      "Extracted JC-202506-citibike-tripdata.csv.zip → C:\\Users\\henry\\OneDrive\\New York’s CitiBike trips in 2022\\unzipped\n"
     ]
    }
   ],
   "source": [
    "# 1. Unzip all archives into a subfolder called \"unzipped\" ---\n",
    "extract_folder = os.path.join(data_folder, \"unzipped\")\n",
    "os.makedirs(extract_folder, exist_ok=True)\n",
    "\n",
    "for item in os.listdir(data_folder):\n",
    "    if item.lower().endswith(\".zip\"):\n",
    "        zip_path = os.path.join(data_folder, item)\n",
    "        with zipfile.ZipFile(zip_path, 'r') as z:\n",
    "            z.extractall(extract_folder)\n",
    "        print(f\"Extracted {item} → {extract_folder}\")"
   ]
  },
  {
   "cell_type": "code",
   "execution_count": 5,
   "id": "dbcb8083-2dd4-4ffa-adb1-e49e61a40221",
   "metadata": {},
   "outputs": [
    {
     "name": "stdout",
     "output_type": "stream",
     "text": [
      "115 CSV files found in 'C:\\Users\\henry\\OneDrive\\New York’s CitiBike trips in 2022\\unzipped'.\n"
     ]
    }
   ],
   "source": [
    "# 2. Find all CSVs in the \"unzipped\" folder ---\n",
    "filepaths = [\n",
    "    os.path.join(extract_folder, fname)\n",
    "    for fname in os.listdir(extract_folder)\n",
    "    if fname.lower().endswith(\".csv\")\n",
    "]\n",
    "\n",
    "print(f\"{len(filepaths)} CSV files found in '{extract_folder}'.\")"
   ]
  },
  {
   "cell_type": "code",
   "execution_count": 6,
   "id": "19ded2bb-1467-492c-b0a7-ea5256fa25e9",
   "metadata": {},
   "outputs": [],
   "source": [
    "# 3. Read & concatenate all CSVs efficiently ---\n",
    "df = pd.concat(\n",
    "    (pd.read_csv(fp) for fp in filepaths),\n",
    "    ignore_index=True\n",
    ")"
   ]
  },
  {
   "cell_type": "code",
   "execution_count": 7,
   "id": "a4b662e7-0ead-4d6c-9e40-ebb991f92b7e",
   "metadata": {},
   "outputs": [
    {
     "name": "stdout",
     "output_type": "stream",
     "text": [
      "Combined DataFrame shape: (5606691, 43)\n",
      "   Trip Duration           Start Time            Stop Time  Start Station ID  \\\n",
      "0          376.0  2015-10-01 00:16:26  2015-10-01 00:22:42            3212.0   \n",
      "1          739.0  2015-10-01 00:27:12  2015-10-01 00:39:32            3207.0   \n",
      "2         2714.0  2015-10-01 00:32:46  2015-10-01 01:18:01            3193.0   \n",
      "3          275.0  2015-10-01 00:34:31  2015-10-01 00:39:06            3199.0   \n",
      "4          561.0  2015-10-01 00:40:12  2015-10-01 00:49:33            3183.0   \n",
      "\n",
      "  Start Station Name  Start Station Latitude  Start Station Longitude  \\\n",
      "0    Christ Hospital               40.734786               -74.050444   \n",
      "1        Oakland Ave               40.737604               -74.052478   \n",
      "2       Lincoln Park               40.724605               -74.078406   \n",
      "3       Newport Pkwy               40.728745               -74.032108   \n",
      "4     Exchange Place               40.716247               -74.033459   \n",
      "\n",
      "   End Station ID    End Station Name  End Station Latitude  ...  ended_at  \\\n",
      "0          3207.0         Oakland Ave             40.737604  ...       NaN   \n",
      "1          3212.0     Christ Hospital             40.734786  ...       NaN   \n",
      "2          3193.0        Lincoln Park             40.724605  ...       NaN   \n",
      "3          3187.0           Warren St             40.721124  ...       NaN   \n",
      "4          3192.0  Liberty Light Rail             40.711242  ...       NaN   \n",
      "\n",
      "   start_station_name start_station_id  end_station_name  end_station_id  \\\n",
      "0                 NaN              NaN               NaN             NaN   \n",
      "1                 NaN              NaN               NaN             NaN   \n",
      "2                 NaN              NaN               NaN             NaN   \n",
      "3                 NaN              NaN               NaN             NaN   \n",
      "4                 NaN              NaN               NaN             NaN   \n",
      "\n",
      "   start_lat start_lng end_lat  end_lng member_casual  \n",
      "0        NaN       NaN     NaN      NaN           NaN  \n",
      "1        NaN       NaN     NaN      NaN           NaN  \n",
      "2        NaN       NaN     NaN      NaN           NaN  \n",
      "3        NaN       NaN     NaN      NaN           NaN  \n",
      "4        NaN       NaN     NaN      NaN           NaN  \n",
      "\n",
      "[5 rows x 43 columns]\n"
     ]
    }
   ],
   "source": [
    "# 4. Inspect the combined DataFrame ---\n",
    "print(f\"Combined DataFrame shape: {df.shape}\")\n",
    "print(df.head())"
   ]
  },
  {
   "cell_type": "markdown",
   "id": "5ead471b-8b86-4edd-bb03-7f6b1a3928b2",
   "metadata": {},
   "source": [
    "Why this is “most effective”:\n",
    "\n",
    "On‑the‑fly reading\n",
    "By passing a generator expression—(pd.read_csv(fp) for fp in filepaths)—to pd.concat, you stream each CSV into the concatenation process one at a time, instead of first building a huge list of separate DataFrames in memory.\n",
    "\n",
    "Avoids extra copies\n",
    "Pandas will know up front roughly how big the final DataFrame will be (based on file sizes and row counts) and can allocate a single output buffer, rather than repeatedly resizing or creating intermediate copies.\n",
    "\n",
    "Keeps code simple\n",
    "It’s a one‑liner that scales from tens to hundreds of files without changing any other logic."
   ]
  },
  {
   "cell_type": "code",
   "execution_count": 9,
   "id": "e310e9af-8d61-4485-9a91-5e5417028dcc",
   "metadata": {},
   "outputs": [],
   "source": [
    "# NOAA token\n",
    "token = \"nUIntaIqEatKQTqwmaxmZignjvFLXkQa\""
   ]
  },
  {
   "cell_type": "code",
   "execution_count": 10,
   "id": "d4c68321-77a3-445f-8e3e-fa4231fa2ea1",
   "metadata": {},
   "outputs": [],
   "source": [
    "# API endpoint & params \n",
    "url = \"https://www.ncei.noaa.gov/access/services/data/v1\"\n",
    "params = {\n",
    "    \"dataset\":   \"daily-summaries\",\n",
    "    \"stations\":  \"USW00014732\",\n",
    "    \"startDate\": \"2022-01-01\",\n",
    "    \"endDate\":   \"2022-12-31\",\n",
    "    \"dataTypes\": \"TMAX,TMIN,PRCP,SNOW,SNWD\",\n",
    "    \"format\":    \"json\"\n",
    "}\n",
    "headers = {\"token\": token}"
   ]
  },
  {
   "cell_type": "code",
   "execution_count": 11,
   "id": "cf93c00f-06dd-4504-a3eb-9d3be73dbe78",
   "metadata": {},
   "outputs": [],
   "source": [
    "# Fetch data \n",
    "resp = requests.get(url, params=params, headers=headers)\n",
    "resp.raise_for_status()\n",
    "df = pd.DataFrame(resp.json())"
   ]
  },
  {
   "cell_type": "code",
   "execution_count": 12,
   "id": "59e44104-5742-4a1c-9ebb-f7bf685f76fb",
   "metadata": {},
   "outputs": [],
   "source": [
    "from pathlib import Path\n",
    "# Ensure target directory exists\n",
    "out_dir = r\"Path(\"Data\")\"\n",
    "os.makedirs(out_dir, exist_ok=True)"
   ]
  },
  {
   "cell_type": "code",
   "execution_count": 13,
   "id": "c019783f-911b-411f-b28d-cd39bdffa68e",
   "metadata": {},
   "outputs": [
    {
     "name": "stdout",
     "output_type": "stream",
     "text": [
      "✅ Saved LaGuardia 2022 weather to:\n",
      "C:\\Users\\henry\\OneDrive\\New York’s CitiBike trips in 2022\\laguardia_2022_weather.csv\n"
     ]
    }
   ],
   "source": [
    "# Write CSV into folder\n",
    "out_path = os.path.join(out_dir, \"laguardia_2022_weather.csv\")\n",
    "df.to_csv(out_path, index=False)\n",
    "\n",
    "print(f\"✅ Saved LaGuardia 2022 weather to:\\n{out_path}\")"
   ]
  },
  {
   "cell_type": "code",
   "execution_count": 14,
   "id": "a8fe51fc-d01b-4bbe-92ee-dd1104c21e9f",
   "metadata": {},
   "outputs": [],
   "source": [
    "from pathlib import Path\n",
    "# Configuration\n",
    "NOAA_TOKEN = \"nUIntaIqEatKQTqwmaxmZignjvFLXkQa\"\n",
    "STATION_ID = \"USW00014732\"          # LaGuardia GHCND code\n",
    "START_DATE = \"2022-01-01\"\n",
    "END_DATE   = \"2022-12-31\"\n",
    "\n",
    "OUT_DIR       = r\"Path(\"Data\")\"\n",
    "WEATHER_FP    = os.path.join(OUT_DIR, \"laguardia_2022_weather.csv\")\n",
    "MERGED_FP     = os.path.join(OUT_DIR, \"citibike_weather_2022.csv\")\n",
    "# Note the \"JC-\" prefix on every monthly file\n",
    "MONTHLY_URL_TMPL = \"https://s3.amazonaws.com/tripdata/JC-{year}{month:02d}-citibike-tripdata.csv.zip\"\n",
    "\n",
    "os.makedirs(OUT_DIR, exist_ok=True)"
   ]
  },
  {
   "cell_type": "code",
   "execution_count": 15,
   "id": "8bbb6454-4015-425a-b35e-f2eb8d67e4a9",
   "metadata": {},
   "outputs": [],
   "source": [
    "# 1. Fetch LaGuardia daily summaries \n",
    "noaa_url = \"https://www.ncei.noaa.gov/access/services/data/v1\"\n",
    "params = {\n",
    "    \"dataset\":   \"daily-summaries\",\n",
    "    \"stations\":  STATION_ID,\n",
    "    \"startDate\": START_DATE,\n",
    "    \"endDate\":   END_DATE,\n",
    "    \"dataTypes\": \"TMAX,TMIN,PRCP,SNOW,SNWD\",\n",
    "    \"format\":    \"json\"\n",
    "}\n",
    "headers = {\"token\": NOAA_TOKEN}\n",
    "\n",
    "resp = requests.get(noaa_url, params=params, headers=headers)\n",
    "resp.raise_for_status()\n",
    "weather = pd.DataFrame(resp.json())"
   ]
  },
  {
   "cell_type": "code",
   "execution_count": 16,
   "id": "2a8c8c3d-035b-42ad-9c35-8c1d7a8223a2",
   "metadata": {},
   "outputs": [
    {
     "name": "stdout",
     "output_type": "stream",
     "text": [
      "✅ Weather saved to: C:\\Users\\henry\\OneDrive\\New York’s CitiBike trips in 2022\\laguardia_2022_weather.csv\n"
     ]
    }
   ],
   "source": [
    "# prepare weather for merge\n",
    "weather[\"date\"] = pd.to_datetime(weather[\"DATE\"]).dt.date\n",
    "weather = weather.drop(columns=[\"DATE\"])\n",
    "weather.to_csv(WEATHER_FP, index=False)\n",
    "print(f\"✅ Weather saved to: {WEATHER_FP}\")"
   ]
  },
  {
   "cell_type": "code",
   "execution_count": 17,
   "id": "31b4bfdf-561a-4407-9ff8-e1124fe2da0a",
   "metadata": {},
   "outputs": [
    {
     "name": "stdout",
     "output_type": "stream",
     "text": [
      "Downloading https://s3.amazonaws.com/tripdata/JC-202201-citibike-tripdata.csv.zip …\n",
      " → Loading JC-202201-citibike-tripdata.csv\n",
      "Downloading https://s3.amazonaws.com/tripdata/JC-202202-citibike-tripdata.csv.zip …\n",
      " → Loading JC-202202-citibike-tripdata.csv\n",
      "Downloading https://s3.amazonaws.com/tripdata/JC-202203-citibike-tripdata.csv.zip …\n",
      " → Loading JC-202203-citibike-tripdata.csv\n",
      "Downloading https://s3.amazonaws.com/tripdata/JC-202204-citibike-tripdata.csv.zip …\n",
      " → Loading JC-202204-citibike-tripdata.csv\n",
      "Downloading https://s3.amazonaws.com/tripdata/JC-202205-citibike-tripdata.csv.zip …\n",
      " → Loading JC-202205-citibike-tripdata.csv\n",
      "Downloading https://s3.amazonaws.com/tripdata/JC-202206-citibike-tripdata.csv.zip …\n",
      " → Loading JC-202206-citibike-tripdata.csv\n",
      "Downloading https://s3.amazonaws.com/tripdata/JC-202207-citibike-tripdata.csv.zip …\n",
      " ⚠️  Failed (404), skipping month 07\n",
      "Downloading https://s3.amazonaws.com/tripdata/JC-202208-citibike-tripdata.csv.zip …\n",
      " → Loading JC-202208-citibike-tripdata.csv\n",
      "Downloading https://s3.amazonaws.com/tripdata/JC-202209-citibike-tripdata.csv.zip …\n",
      " → Loading JC-202209-citibike-tripdata.csv\n",
      "Downloading https://s3.amazonaws.com/tripdata/JC-202210-citibike-tripdata.csv.zip …\n",
      " → Loading JC-202210-citibike-tripdata.csv\n",
      "Downloading https://s3.amazonaws.com/tripdata/JC-202211-citibike-tripdata.csv.zip …\n",
      " → Loading JC-202211-citibike-tripdata.csv\n",
      "Downloading https://s3.amazonaws.com/tripdata/JC-202212-citibike-tripdata.csv.zip …\n",
      " → Loading JC-202212-citibike-tripdata.csv\n",
      "✅ Loaded 11 months → 786,983 total trips\n"
     ]
    }
   ],
   "source": [
    "from zipfile import ZipFile \n",
    "# 2. Download & concatenate all 12 months of Citi Bike data \n",
    "all_months = []\n",
    "year = 2022\n",
    "\n",
    "for month in range(1, 13):\n",
    "    url = MONTHLY_URL_TMPL.format(year=year, month=month)\n",
    "    print(f\"Downloading {url} …\")\n",
    "    r = requests.get(url)\n",
    "    if not r.ok:\n",
    "        print(f\" ⚠️  Failed ({r.status_code}), skipping month {month:02d}\")\n",
    "        continue\n",
    "\n",
    "    buf = BytesIO(r.content)\n",
    "    with ZipFile(buf) as zf:\n",
    "        # find the single CSV\n",
    "        csv_name = next((f for f in zf.namelist() if f.lower().endswith(\".csv\")), None)\n",
    "        if not csv_name:\n",
    "            raise RuntimeError(f\"No CSV found inside {url}\")\n",
    "        print(f\" → Loading {csv_name}\")\n",
    "        dfm = pd.read_csv(zf.open(csv_name), parse_dates=[\"started_at\", \"ended_at\"])\n",
    "        all_months.append(dfm)\n",
    "\n",
    "if not all_months:\n",
    "    raise RuntimeError(\"No Citi Bike data downloaded — check the URL template or your network\")\n",
    "\n",
    "cb = pd.concat(all_months, ignore_index=True)\n",
    "print(f\"✅ Loaded {len(all_months)} months → {len(cb):,} total trips\")"
   ]
  },
  {
   "cell_type": "code",
   "execution_count": 18,
   "id": "c50ebd1a-98a8-4b96-ae64-ed2fd634b6cb",
   "metadata": {},
   "outputs": [
    {
     "name": "stdout",
     "output_type": "stream",
     "text": [
      "✅ Merged DataFrame: 786,983 rows × 20 cols\n"
     ]
    }
   ],
   "source": [
    "# 3. Merge with weather \n",
    "cb[\"date\"] = cb[\"started_at\"].dt.date\n",
    "merged = cb.merge(weather, on=\"date\", how=\"left\")\n",
    "print(f\"✅ Merged DataFrame: {len(merged):,} rows × {merged.shape[1]} cols\")"
   ]
  },
  {
   "cell_type": "code",
   "execution_count": 19,
   "id": "bb561d0c-0789-42f7-9805-78d7027e4c16",
   "metadata": {},
   "outputs": [
    {
     "name": "stdout",
     "output_type": "stream",
     "text": [
      "✅ Merged CSV saved to: C:\\Users\\henry\\OneDrive\\New York’s CitiBike trips in 2022\\citibike_weather_2022.csv\n"
     ]
    }
   ],
   "source": [
    "# 4. Export merged CSV \n",
    "merged.to_csv(MERGED_FP, index=False)\n",
    "print(f\"✅ Merged CSV saved to: {MERGED_FP}\")"
   ]
  },
  {
   "cell_type": "code",
   "execution_count": null,
   "id": "a1885649-a209-427f-a79a-22772a7d4f97",
   "metadata": {},
   "outputs": [],
   "source": []
  }
 ],
 "metadata": {
  "kernelspec": {
   "display_name": "Python [conda env:base] *",
   "language": "python",
   "name": "conda-base-py"
  },
  "language_info": {
   "codemirror_mode": {
    "name": "ipython",
    "version": 3
   },
   "file_extension": ".py",
   "mimetype": "text/x-python",
   "name": "python",
   "nbconvert_exporter": "python",
   "pygments_lexer": "ipython3",
   "version": "3.12.7"
  }
 },
 "nbformat": 4,
 "nbformat_minor": 5
}

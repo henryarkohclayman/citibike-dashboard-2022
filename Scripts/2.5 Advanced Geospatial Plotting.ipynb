{
 "cells": [
  {
   "cell_type": "markdown",
   "id": "838cdcb0",
   "metadata": {},
   "source": [
    "# 2.5: Advanced Geospatial Plotting\n",
    "\n",
    "This notebook aggregates trips between stations and visualizes the most popular flows using kepler.gl."
   ]
  },
  {
   "cell_type": "code",
   "execution_count": 2,
   "id": "0263863b-4e87-4b44-888e-6432224e0cd8",
   "metadata": {},
   "outputs": [
    {
     "name": "stderr",
     "output_type": "stream",
     "text": [
      "C:\\Users\\henry\\anaconda3\\envs\\viz-kep\\lib\\site-packages\\keplergl\\keplergl.py:2: UserWarning: pkg_resources is deprecated as an API. See https://setuptools.pypa.io/en/latest/pkg_resources.html. The pkg_resources package is slated for removal as early as 2025-11-30. Refrain from using this package or pin to Setuptools<81.\n",
      "  from pkg_resources import resource_string\n"
     ]
    }
   ],
   "source": [
    "# 1. Import libraries\n",
    "import sys\n",
    "from pathlib import Path\n",
    "import os\n",
    "import numpy as np\n",
    "import pandas as pd\n",
    "import seaborn as sns\n",
    "import matplotlib\n",
    "import geopandas as gpd\n",
    "import shapely\n",
    "import keplergl\n",
    "from keplergl import KeplerGl"
   ]
  },
  {
   "cell_type": "code",
   "execution_count": 3,
   "id": "6549f352-ef1b-4163-b601-7dfa75397a95",
   "metadata": {},
   "outputs": [
    {
     "name": "stdout",
     "output_type": "stream",
     "text": [
      "Resolved project root: C:\\Users\\henry\\OneDrive\\citibike-dashboard-2022\n",
      "  trips: True C:\\Users\\henry\\OneDrive\\citibike-dashboard-2022\\Data\\citibike_weather_2022.csv\n",
      "  weather: True C:\\Users\\henry\\OneDrive\\citibike-dashboard-2022\\Data\\laguardia_2022_weather.csv\n"
     ]
    }
   ],
   "source": [
    "# 2. Path resolution and setup\n",
    "cwd = Path.cwd()\n",
    "if (cwd / \"Data\").exists():\n",
    "    PROJECT_ROOT = cwd\n",
    "elif (cwd.parent / \"Data\").exists():\n",
    "    PROJECT_ROOT = cwd.parent\n",
    "else:\n",
    "    raise FileNotFoundError(\"Cannot find Data/ directory from current or parent.\")\n",
    "\n",
    "print(\"Resolved project root:\", PROJECT_ROOT)\n",
    "\n",
    "DATA_DIR   = PROJECT_ROOT / \"Data\"\n",
    "OUTPUT_DIR = PROJECT_ROOT / \"Visualizations\"\n",
    "os.makedirs(OUTPUT_DIR, exist_ok=True)\n",
    "\n",
    "# Input files\n",
    "TRIPS_FP   = DATA_DIR / \"citibike_weather_2022.csv\"\n",
    "WEATHER_FP = DATA_DIR / \"laguardia_2022_weather.csv\"\n",
    "\n",
    "print(\"  trips:\", TRIPS_FP.exists(), TRIPS_FP)\n",
    "print(\"  weather:\", WEATHER_FP.exists(), WEATHER_FP)\n"
   ]
  },
  {
   "cell_type": "markdown",
   "id": "e5a7cc10",
   "metadata": {},
   "source": [
    "## 3. Load, aggregate and prepare data"
   ]
  },
  {
   "cell_type": "code",
   "execution_count": 5,
   "id": "1e232f22",
   "metadata": {},
   "outputs": [
    {
     "name": "stdout",
     "output_type": "stream",
     "text": [
      "Original trip count: 786983\n",
      "Aggregated trip sum: 784166\n"
     ]
    }
   ],
   "source": [
    "# 3. Load, aggregate and prepare data\n",
    "# Load trips and weather\n",
    "trips = pd.read_csv(TRIPS_FP, parse_dates=['started_at', 'ended_at', 'date'], low_memory=False)\n",
    "weather = pd.read_csv(WEATHER_FP, parse_dates=['date'])\n",
    "\n",
    "# Normalize station column names if needed\n",
    "if 'start_station_name' not in trips.columns and 'from_station_name' in trips.columns:\n",
    "    trips = trips.rename(columns={'from_station_name': 'start_station_name'})\n",
    "if 'end_station_name' not in trips.columns and 'to_station_name' in trips.columns:\n",
    "    trips = trips.rename(columns={'to_station_name': 'end_station_name'})\n",
    "\n",
    "# Ensure coordinate columns exist\n",
    "required_trip_cols = ['start_station_name', 'end_station_name', 'start_lat', 'start_lng', 'end_lat', 'end_lng']\n",
    "missing = [c for c in required_trip_cols if c not in trips.columns]\n",
    "if missing:\n",
    "    raise RuntimeError(f'Missing required trip columns: {missing}')\n",
    "\n",
    "# Add value for aggregation\n",
    "trips['value'] = 1\n",
    "\n",
    "# Group by origin-destination and coordinates\n",
    "df_grouped = (\n",
    "    trips.groupby([\n",
    "        'start_station_name', 'end_station_name',\n",
    "        'start_lat', 'start_lng',\n",
    "        'end_lat', 'end_lng'\n",
    "    ])['value']\n",
    "    .sum()\n",
    "    .rename('trips')\n",
    "    .reset_index()\n",
    ")\n",
    "\n",
    "print(\"Original trip count:\", len(trips))\n",
    "print(\"Aggregated trip sum:\", int(df_grouped['trips'].sum()))\n",
    "\n",
    "# Prepare arcs DataFrame for kepler.gl\n",
    "arcs_df = pd.DataFrame({\n",
    "    'start_lat': df_grouped['start_lat'],\n",
    "    'start_lng': df_grouped['start_lng'],\n",
    "    'end_lat': df_grouped['end_lat'],\n",
    "    'end_lng': df_grouped['end_lng'],\n",
    "    'start_station_name': df_grouped['start_station_name'],\n",
    "    'end_station_name': df_grouped['end_station_name'],\n",
    "    'trips': df_grouped['trips'],\n",
    "})\n",
    "\n",
    "# limit to top N flows\n",
    "TOP_N = 500\n",
    "top_arcs = arcs_df.nlargest(TOP_N, 'trips').copy()"
   ]
  },
  {
   "cell_type": "code",
   "execution_count": 6,
   "id": "641213ec",
   "metadata": {},
   "outputs": [
    {
     "name": "stdout",
     "output_type": "stream",
     "text": [
      "User Guide: https://docs.kepler.gl/docs/keplergl-jupyter\n"
     ]
    }
   ],
   "source": [
    "# 4.Visualize with kepler.gl\n",
    "# Instantiate kepler.gl map\n",
    "m = KeplerGl(height=700, data={'popular_trips': top_arcs})"
   ]
  },
  {
   "cell_type": "markdown",
   "id": "3dd7ffb5",
   "metadata": {},
   "source": [
    "#  Customization notes\n",
    "- Limited to top 500 trips to reduce clutter.\n",
    "- Arc thickness/color encode trip volume.\n",
    "- Filters on `trips` can isolate high-frequency flows."
   ]
  },
  {
   "cell_type": "code",
   "execution_count": 8,
   "id": "69dfd6ea",
   "metadata": {},
   "outputs": [
    {
     "name": "stdout",
     "output_type": "stream",
     "text": [
      "Saved config to C:\\Users\\henry\\OneDrive\\citibike-dashboard-2022\\Visualizations\\kepler_config.json\n",
      "Map saved to C:\\Users\\henry\\OneDrive\\citibike-dashboard-2022\\Visualizations\\kepler_popular_trips_map.html!\n",
      "Saved HTML map to C:\\Users\\henry\\OneDrive\\citibike-dashboard-2022\\Visualizations\\kepler_popular_trips_map.html\n"
     ]
    }
   ],
   "source": [
    "# 6.Save current configuration and export interactive HTML\n",
    "config = m.config\n",
    "config_path = OUTPUT_DIR / 'kepler_config.json'\n",
    "with open(config_path, 'w') as f:\n",
    "    json.dump(config, f, indent=2)\n",
    "print('Saved config to', config_path)\n",
    "\n",
    "html_path = OUTPUT_DIR / 'kepler_popular_trips_map.html'\n",
    "m.save_to_html(file_name=str(html_path), read_only=False, config=config)\n",
    "print('Saved HTML map to', html_path)"
   ]
  }
 ],
 "metadata": {
  "kernelspec": {
   "display_name": "Python [conda env:viz-kep]",
   "language": "python",
   "name": "conda-env-viz-kep-py"
  },
  "language_info": {
   "codemirror_mode": {
    "name": "ipython",
    "version": 3
   },
   "file_extension": ".py",
   "mimetype": "text/x-python",
   "name": "python",
   "nbconvert_exporter": "python",
   "pygments_lexer": "ipython3",
   "version": "3.10.18"
  }
 },
 "nbformat": 4,
 "nbformat_minor": 5
}
